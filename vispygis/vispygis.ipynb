{
 "cells": [
  {
   "cell_type": "code",
   "execution_count": null,
   "id": "medical-bridges",
   "metadata": {},
   "outputs": [],
   "source": [
    "import urllib.request\n",
    "import os\n",
    "import geopandas as gpd\n",
    "import rasterio\n",
    "from rasterio.plot import show\n",
    "import zipfile\n",
    "import matplotlib.pyplot as plt"
   ]
  },
  {
   "cell_type": "markdown",
   "id": "ancient-allen",
   "metadata": {},
   "source": [
    "# GIS visualizations with geopandas"
   ]
  },
  {
   "cell_type": "code",
   "execution_count": null,
   "id": "meaningful-metro",
   "metadata": {},
   "outputs": [],
   "source": [
    "url = 'https://biogeo.ucdavis.edu/data/gadm3.6/shp/gadm36_COL_shp.zip'\n",
    "dest = os.path.join('data', 'admin')"
   ]
  },
  {
   "cell_type": "code",
   "execution_count": null,
   "id": "forced-painting",
   "metadata": {},
   "outputs": [],
   "source": [
    "os.makedirs(dest, exist_ok=True)\n",
    "urllib.request.urlretrieve(url, os.path.join(dest, 'gadm36_COL_shp.zip'))\n",
    "\n",
    "with zipfile.ZipFile(os.path.join(dest, 'gadm36_COL_shp.zip'), 'r') as zip_ref:\n",
    "    zip_ref.extractall(dest)"
   ]
  },
  {
   "cell_type": "code",
   "execution_count": null,
   "id": "mechanical-content",
   "metadata": {},
   "outputs": [],
   "source": [
    "gdf_adm0 = gpd.read_file(os.path.join(dest, 'gadm36_COL_0.shp'))\n",
    "gdf_adm1 = gpd.read_file(os.path.join(dest, 'gadm36_COL_1.shp'))"
   ]
  },
  {
   "cell_type": "code",
   "execution_count": null,
   "id": "outside-devon",
   "metadata": {},
   "outputs": [],
   "source": [
    "gdf_adm1"
   ]
  },
  {
   "cell_type": "code",
   "execution_count": null,
   "id": "immediate-funds",
   "metadata": {},
   "outputs": [],
   "source": [
    "gdf_adm0.plot()"
   ]
  },
  {
   "cell_type": "code",
   "execution_count": null,
   "id": "dress-massage",
   "metadata": {},
   "outputs": [],
   "source": [
    "fig, ax = plt.subplots(1, 1, figsize=(12, 12))\n",
    "\n",
    "gdf_adm0.plot(color='white', edgecolor='black', ax=ax)\n",
    "gdf_adm1.plot(column='NAME_1', ax=ax, cmap='Set2', \n",
    "              legend=True, \n",
    "              legend_kwds={'loc': \"upper right\",\n",
    "                           'bbox_to_anchor': (1.4, 1)})"
   ]
  },
  {
   "cell_type": "code",
   "execution_count": null,
   "id": "hispanic-scott",
   "metadata": {},
   "outputs": [],
   "source": [
    "url = 'https://download.geofabrik.de/south-america/colombia-latest-free.shp.zip'\n",
    "dest = os.path.join('data', 'places')"
   ]
  },
  {
   "cell_type": "code",
   "execution_count": null,
   "id": "biological-phenomenon",
   "metadata": {},
   "outputs": [],
   "source": [
    "os.makedirs(dest, exist_ok=True)\n",
    "urllib.request.urlretrieve(url, os.path.join(dest, 'colombia-latest-free.shp.zip'))\n",
    "\n",
    "with zipfile.ZipFile(os.path.join(dest, 'colombia-latest-free.shp.zip'), 'r') as zip_ref:\n",
    "    zip_ref.extractall(dest)"
   ]
  },
  {
   "cell_type": "code",
   "execution_count": null,
   "id": "maritime-lincoln",
   "metadata": {},
   "outputs": [],
   "source": [
    "gdf_water = gpd.read_file(os.path.join(dest, 'gis_osm_water_a_free_1.shp'))\n",
    "gdf_places = gpd.read_file(os.path.join(dest, 'gis_osm_places_free_1.shp'))\n",
    "gdf_cities = gdf_places.loc[gdf_places['fclass']=='city'].copy()"
   ]
  },
  {
   "cell_type": "code",
   "execution_count": null,
   "id": "specialized-affairs",
   "metadata": {},
   "outputs": [],
   "source": [
    "fig, ax = plt.subplots(1, 1, figsize=(12, 12))\n",
    "\n",
    "gdf_adm0.plot(color='white', edgecolor='black', ax=ax)\n",
    "gdf_adm1.plot(color='white', ax=ax)\n",
    "gdf_water.plot(edgecolor='blue', ax=ax)\n",
    "gdf_cities.plot(column='population', ax=ax, legend=True)"
   ]
  },
  {
   "cell_type": "code",
   "execution_count": null,
   "id": "affiliated-miracle",
   "metadata": {},
   "outputs": [],
   "source": [
    "gdf_cities['size'] = gdf_cities['population'] / gdf_cities['population'].max() * 500"
   ]
  },
  {
   "cell_type": "code",
   "execution_count": null,
   "id": "substantial-transport",
   "metadata": {},
   "outputs": [],
   "source": [
    "from mpl_toolkits.axes_grid1 import make_axes_locatable\n",
    "\n",
    "fig, ax = plt.subplots(1, 1, figsize=(12, 12))\n",
    "\n",
    "divider = make_axes_locatable(ax)\n",
    "\n",
    "cax = divider.append_axes(\"right\", size=\"5%\", pad=0.1)\n",
    "\n",
    "gdf_adm0.plot(color='white', edgecolor='black', ax=ax)\n",
    "gdf_adm1.plot(color='white', edgecolor='gray', ax=ax)\n",
    "gdf_water.plot(edgecolor='lightblue', ax=ax)\n",
    "gdf_cities.plot(markersize='size', column='population', \n",
    "                cmap='viridis', edgecolor='white', \n",
    "                ax=ax, cax=cax, legend=True,\n",
    "                legend_kwds={'label': \"Population by city\"})"
   ]
  },
  {
   "cell_type": "code",
   "execution_count": null,
   "id": "employed-chance",
   "metadata": {},
   "outputs": [],
   "source": [
    "url = 'https://data.worldpop.org/GIS/Population_Density/Global_2000_2020_1km_UNadj/2020/COL/col_pd_2020_1km_UNadj.tif'\n",
    "dest = os.path.join('data', 'pop')"
   ]
  },
  {
   "cell_type": "code",
   "execution_count": null,
   "id": "colored-apple",
   "metadata": {},
   "outputs": [],
   "source": [
    "os.makedirs(dest, exist_ok=True)\n",
    "urllib.request.urlretrieve(url, os.path.join(dest, 'col_pd_2020_1km_UNadj.tif'))"
   ]
  },
  {
   "cell_type": "code",
   "execution_count": null,
   "id": "behind-cycling",
   "metadata": {},
   "outputs": [],
   "source": [
    "with rasterio.open(os.path.join(dest, 'col_pd_2020_1km_UNadj.tif')) as src:\n",
    "    fig, ax = plt.subplots(figsize=(12, 12))\n",
    "    show(src, ax=ax, cmap='viridis_r')\n",
    "    gdf_adm1.boundary.plot(edgecolor='gray', linewidth=0.5, ax=ax)"
   ]
  }
 ],
 "metadata": {
  "kernelspec": {
   "display_name": "Python 3",
   "language": "python",
   "name": "python3"
  },
  "language_info": {
   "codemirror_mode": {
    "name": "ipython",
    "version": 3
   },
   "file_extension": ".py",
   "mimetype": "text/x-python",
   "name": "python",
   "nbconvert_exporter": "python",
   "pygments_lexer": "ipython3",
   "version": "3.9.2"
  }
 },
 "nbformat": 4,
 "nbformat_minor": 5
}
